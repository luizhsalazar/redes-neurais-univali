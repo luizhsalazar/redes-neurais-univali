{
  "nbformat": 4,
  "nbformat_minor": 0,
  "metadata": {
    "colab": {
      "name": "Pandas e Arquitetura RNA.ipynb",
      "provenance": [],
      "collapsed_sections": [
        "82HfG9B2UNWE"
      ]
    },
    "kernelspec": {
      "name": "python3",
      "display_name": "Python 3"
    },
    "accelerator": "GPU"
  },
  "cells": [
    {
      "cell_type": "markdown",
      "metadata": {
        "id": "QsrfVYnEOfjK"
      },
      "source": [
        "## Carregamento de dados de CSV com Pandas\n",
        "\n",
        "A biblioteca Pandas, criada para a linguagem Python, é utilizada para análise e manipulação de dados. Através do Pandas podemos ler arquivos dos mais diversos tipos: csv, excel, json, etc. Neste exemplo, iremos utilizar o **formato CSV**.\n",
        "\n",
        "Um arquivo do tipo CSV, do inglês *Comma-separated values*, é um arquivo que possui valores que são separados por vírgulas, podendo também ser separados por outros delimitadores.\n",
        "\n",
        "Documentação sobre o comando de importação dos arquivos CSV (https://pandas.pydata.org/docs/reference/api/pandas.read_csv.html)"
      ]
    },
    {
      "cell_type": "code",
      "metadata": {
        "id": "gHKMLTpvOmXM"
      },
      "source": [
        "## Importando a biblioteca do pandas\n",
        "import pandas as pd\n",
        "\n",
        "\n",
        "## Carregando o arquivo CSV diretamente via link do github\n",
        "dados = pd.read_csv('https://raw.githubusercontent.com/luizhsalazar/redes-neurais-univali/main/dados-titanic.csv')"
      ],
      "execution_count": null,
      "outputs": []
    },
    {
      "cell_type": "code",
      "metadata": {
        "colab": {
          "base_uri": "https://localhost:8080/",
          "height": 206
        },
        "id": "X5bCO91BRO8I",
        "outputId": "7b5ccf65-f64e-43b1-cc28-74bd71b086d9"
      },
      "source": [
        "## Visualização dos dados de maneira tabulada\n",
        "dados.head()"
      ],
      "execution_count": null,
      "outputs": [
        {
          "output_type": "execute_result",
          "data": {
            "text/html": [
              "<div>\n",
              "<style scoped>\n",
              "    .dataframe tbody tr th:only-of-type {\n",
              "        vertical-align: middle;\n",
              "    }\n",
              "\n",
              "    .dataframe tbody tr th {\n",
              "        vertical-align: top;\n",
              "    }\n",
              "\n",
              "    .dataframe thead th {\n",
              "        text-align: right;\n",
              "    }\n",
              "</style>\n",
              "<table border=\"1\" class=\"dataframe\">\n",
              "  <thead>\n",
              "    <tr style=\"text-align: right;\">\n",
              "      <th></th>\n",
              "      <th>PassengerId</th>\n",
              "      <th>Survived</th>\n",
              "      <th>Pclass</th>\n",
              "      <th>Name</th>\n",
              "      <th>Sex</th>\n",
              "      <th>Age</th>\n",
              "      <th>SibSp</th>\n",
              "      <th>Parch</th>\n",
              "      <th>Ticket</th>\n",
              "      <th>Fare</th>\n",
              "      <th>Cabin</th>\n",
              "      <th>Embarked</th>\n",
              "    </tr>\n",
              "  </thead>\n",
              "  <tbody>\n",
              "    <tr>\n",
              "      <th>0</th>\n",
              "      <td>1</td>\n",
              "      <td>0</td>\n",
              "      <td>3</td>\n",
              "      <td>Braund, Mr. Owen Harris</td>\n",
              "      <td>male</td>\n",
              "      <td>22.0</td>\n",
              "      <td>1</td>\n",
              "      <td>0</td>\n",
              "      <td>A/5 21171</td>\n",
              "      <td>7.2500</td>\n",
              "      <td>NaN</td>\n",
              "      <td>S</td>\n",
              "    </tr>\n",
              "    <tr>\n",
              "      <th>1</th>\n",
              "      <td>2</td>\n",
              "      <td>1</td>\n",
              "      <td>1</td>\n",
              "      <td>Cumings, Mrs. John Bradley (Florence Briggs Th...</td>\n",
              "      <td>female</td>\n",
              "      <td>38.0</td>\n",
              "      <td>1</td>\n",
              "      <td>0</td>\n",
              "      <td>PC 17599</td>\n",
              "      <td>71.2833</td>\n",
              "      <td>C85</td>\n",
              "      <td>C</td>\n",
              "    </tr>\n",
              "    <tr>\n",
              "      <th>2</th>\n",
              "      <td>3</td>\n",
              "      <td>1</td>\n",
              "      <td>3</td>\n",
              "      <td>Heikkinen, Miss. Laina</td>\n",
              "      <td>female</td>\n",
              "      <td>26.0</td>\n",
              "      <td>0</td>\n",
              "      <td>0</td>\n",
              "      <td>STON/O2. 3101282</td>\n",
              "      <td>7.9250</td>\n",
              "      <td>NaN</td>\n",
              "      <td>S</td>\n",
              "    </tr>\n",
              "    <tr>\n",
              "      <th>3</th>\n",
              "      <td>4</td>\n",
              "      <td>1</td>\n",
              "      <td>1</td>\n",
              "      <td>Futrelle, Mrs. Jacques Heath (Lily May Peel)</td>\n",
              "      <td>female</td>\n",
              "      <td>35.0</td>\n",
              "      <td>1</td>\n",
              "      <td>0</td>\n",
              "      <td>113803</td>\n",
              "      <td>53.1000</td>\n",
              "      <td>C123</td>\n",
              "      <td>S</td>\n",
              "    </tr>\n",
              "    <tr>\n",
              "      <th>4</th>\n",
              "      <td>5</td>\n",
              "      <td>0</td>\n",
              "      <td>3</td>\n",
              "      <td>Allen, Mr. William Henry</td>\n",
              "      <td>male</td>\n",
              "      <td>35.0</td>\n",
              "      <td>0</td>\n",
              "      <td>0</td>\n",
              "      <td>373450</td>\n",
              "      <td>8.0500</td>\n",
              "      <td>NaN</td>\n",
              "      <td>S</td>\n",
              "    </tr>\n",
              "  </tbody>\n",
              "</table>\n",
              "</div>"
            ],
            "text/plain": [
              "   PassengerId  Survived  Pclass  ...     Fare Cabin  Embarked\n",
              "0            1         0       3  ...   7.2500   NaN         S\n",
              "1            2         1       1  ...  71.2833   C85         C\n",
              "2            3         1       3  ...   7.9250   NaN         S\n",
              "3            4         1       1  ...  53.1000  C123         S\n",
              "4            5         0       3  ...   8.0500   NaN         S\n",
              "\n",
              "[5 rows x 12 columns]"
            ]
          },
          "metadata": {},
          "execution_count": 17
        }
      ]
    },
    {
      "cell_type": "code",
      "metadata": {
        "colab": {
          "base_uri": "https://localhost:8080/"
        },
        "id": "WaRl1HFPRVCS",
        "outputId": "aec90696-1fe2-4524-e04a-1792c876cd72"
      },
      "source": [
        "## Quantidade de linhas e colunas do dataset\n",
        "### Linhas:  quantidade total de registros (891)\n",
        "### Colunas: quantidade de atributos do dataset (12)\n",
        "dados.shape"
      ],
      "execution_count": null,
      "outputs": [
        {
          "output_type": "execute_result",
          "data": {
            "text/plain": [
              "(891, 12)"
            ]
          },
          "metadata": {},
          "execution_count": 18
        }
      ]
    },
    {
      "cell_type": "code",
      "metadata": {
        "colab": {
          "base_uri": "https://localhost:8080/"
        },
        "id": "J4PFMLAERpl1",
        "outputId": "051fea04-bfbe-4f82-d402-0eb20c16d1b9"
      },
      "source": [
        "## Nome das colunas\n",
        "dados.columns"
      ],
      "execution_count": null,
      "outputs": [
        {
          "output_type": "execute_result",
          "data": {
            "text/plain": [
              "Index(['PassengerId', 'Survived', 'Pclass', 'Name', 'Sex', 'Age', 'SibSp',\n",
              "       'Parch', 'Ticket', 'Fare', 'Cabin', 'Embarked'],\n",
              "      dtype='object')"
            ]
          },
          "metadata": {},
          "execution_count": 19
        }
      ]
    },
    {
      "cell_type": "code",
      "metadata": {
        "colab": {
          "base_uri": "https://localhost:8080/"
        },
        "id": "RZ46DJNPSDdb",
        "outputId": "d56c9562-137d-4016-cb67-0cf5cc5f24d5"
      },
      "source": [
        "## Listagem do tipo de cada atributo do dataset\n",
        "dados.info()"
      ],
      "execution_count": null,
      "outputs": [
        {
          "output_type": "stream",
          "name": "stdout",
          "text": [
            "<class 'pandas.core.frame.DataFrame'>\n",
            "RangeIndex: 891 entries, 0 to 890\n",
            "Data columns (total 12 columns):\n",
            " #   Column       Non-Null Count  Dtype  \n",
            "---  ------       --------------  -----  \n",
            " 0   PassengerId  891 non-null    int64  \n",
            " 1   Survived     891 non-null    int64  \n",
            " 2   Pclass       891 non-null    int64  \n",
            " 3   Name         891 non-null    object \n",
            " 4   Sex          891 non-null    object \n",
            " 5   Age          714 non-null    float64\n",
            " 6   SibSp        891 non-null    int64  \n",
            " 7   Parch        891 non-null    int64  \n",
            " 8   Ticket       891 non-null    object \n",
            " 9   Fare         891 non-null    float64\n",
            " 10  Cabin        204 non-null    object \n",
            " 11  Embarked     889 non-null    object \n",
            "dtypes: float64(2), int64(5), object(5)\n",
            "memory usage: 83.7+ KB\n"
          ]
        }
      ]
    },
    {
      "cell_type": "code",
      "metadata": {
        "colab": {
          "base_uri": "https://localhost:8080/",
          "height": 300
        },
        "id": "kxyPcSYbR5Ih",
        "outputId": "36f7307e-8248-49d9-e880-609b345c4fd3"
      },
      "source": [
        "## Métricas estatísticas básicas para análise inicial\n",
        "dados.describe()"
      ],
      "execution_count": null,
      "outputs": [
        {
          "output_type": "execute_result",
          "data": {
            "text/html": [
              "<div>\n",
              "<style scoped>\n",
              "    .dataframe tbody tr th:only-of-type {\n",
              "        vertical-align: middle;\n",
              "    }\n",
              "\n",
              "    .dataframe tbody tr th {\n",
              "        vertical-align: top;\n",
              "    }\n",
              "\n",
              "    .dataframe thead th {\n",
              "        text-align: right;\n",
              "    }\n",
              "</style>\n",
              "<table border=\"1\" class=\"dataframe\">\n",
              "  <thead>\n",
              "    <tr style=\"text-align: right;\">\n",
              "      <th></th>\n",
              "      <th>PassengerId</th>\n",
              "      <th>Survived</th>\n",
              "      <th>Pclass</th>\n",
              "      <th>Age</th>\n",
              "      <th>SibSp</th>\n",
              "      <th>Parch</th>\n",
              "      <th>Fare</th>\n",
              "    </tr>\n",
              "  </thead>\n",
              "  <tbody>\n",
              "    <tr>\n",
              "      <th>count</th>\n",
              "      <td>891.000000</td>\n",
              "      <td>891.000000</td>\n",
              "      <td>891.000000</td>\n",
              "      <td>714.000000</td>\n",
              "      <td>891.000000</td>\n",
              "      <td>891.000000</td>\n",
              "      <td>891.000000</td>\n",
              "    </tr>\n",
              "    <tr>\n",
              "      <th>mean</th>\n",
              "      <td>446.000000</td>\n",
              "      <td>0.383838</td>\n",
              "      <td>2.308642</td>\n",
              "      <td>29.699118</td>\n",
              "      <td>0.523008</td>\n",
              "      <td>0.381594</td>\n",
              "      <td>32.204208</td>\n",
              "    </tr>\n",
              "    <tr>\n",
              "      <th>std</th>\n",
              "      <td>257.353842</td>\n",
              "      <td>0.486592</td>\n",
              "      <td>0.836071</td>\n",
              "      <td>14.526497</td>\n",
              "      <td>1.102743</td>\n",
              "      <td>0.806057</td>\n",
              "      <td>49.693429</td>\n",
              "    </tr>\n",
              "    <tr>\n",
              "      <th>min</th>\n",
              "      <td>1.000000</td>\n",
              "      <td>0.000000</td>\n",
              "      <td>1.000000</td>\n",
              "      <td>0.420000</td>\n",
              "      <td>0.000000</td>\n",
              "      <td>0.000000</td>\n",
              "      <td>0.000000</td>\n",
              "    </tr>\n",
              "    <tr>\n",
              "      <th>25%</th>\n",
              "      <td>223.500000</td>\n",
              "      <td>0.000000</td>\n",
              "      <td>2.000000</td>\n",
              "      <td>20.125000</td>\n",
              "      <td>0.000000</td>\n",
              "      <td>0.000000</td>\n",
              "      <td>7.910400</td>\n",
              "    </tr>\n",
              "    <tr>\n",
              "      <th>50%</th>\n",
              "      <td>446.000000</td>\n",
              "      <td>0.000000</td>\n",
              "      <td>3.000000</td>\n",
              "      <td>28.000000</td>\n",
              "      <td>0.000000</td>\n",
              "      <td>0.000000</td>\n",
              "      <td>14.454200</td>\n",
              "    </tr>\n",
              "    <tr>\n",
              "      <th>75%</th>\n",
              "      <td>668.500000</td>\n",
              "      <td>1.000000</td>\n",
              "      <td>3.000000</td>\n",
              "      <td>38.000000</td>\n",
              "      <td>1.000000</td>\n",
              "      <td>0.000000</td>\n",
              "      <td>31.000000</td>\n",
              "    </tr>\n",
              "    <tr>\n",
              "      <th>max</th>\n",
              "      <td>891.000000</td>\n",
              "      <td>1.000000</td>\n",
              "      <td>3.000000</td>\n",
              "      <td>80.000000</td>\n",
              "      <td>8.000000</td>\n",
              "      <td>6.000000</td>\n",
              "      <td>512.329200</td>\n",
              "    </tr>\n",
              "  </tbody>\n",
              "</table>\n",
              "</div>"
            ],
            "text/plain": [
              "       PassengerId    Survived      Pclass  ...       SibSp       Parch        Fare\n",
              "count   891.000000  891.000000  891.000000  ...  891.000000  891.000000  891.000000\n",
              "mean    446.000000    0.383838    2.308642  ...    0.523008    0.381594   32.204208\n",
              "std     257.353842    0.486592    0.836071  ...    1.102743    0.806057   49.693429\n",
              "min       1.000000    0.000000    1.000000  ...    0.000000    0.000000    0.000000\n",
              "25%     223.500000    0.000000    2.000000  ...    0.000000    0.000000    7.910400\n",
              "50%     446.000000    0.000000    3.000000  ...    0.000000    0.000000   14.454200\n",
              "75%     668.500000    1.000000    3.000000  ...    1.000000    0.000000   31.000000\n",
              "max     891.000000    1.000000    3.000000  ...    8.000000    6.000000  512.329200\n",
              "\n",
              "[8 rows x 7 columns]"
            ]
          },
          "metadata": {},
          "execution_count": 21
        }
      ]
    },
    {
      "cell_type": "code",
      "metadata": {
        "colab": {
          "base_uri": "https://localhost:8080/",
          "height": 424
        },
        "id": "lA32x6VgSaVX",
        "outputId": "92d3cb82-7a2e-4f3a-f8e8-aa575a4d1597"
      },
      "source": [
        "## Valores nulos por atributo\n",
        "dados.isna()"
      ],
      "execution_count": null,
      "outputs": [
        {
          "output_type": "execute_result",
          "data": {
            "text/html": [
              "<div>\n",
              "<style scoped>\n",
              "    .dataframe tbody tr th:only-of-type {\n",
              "        vertical-align: middle;\n",
              "    }\n",
              "\n",
              "    .dataframe tbody tr th {\n",
              "        vertical-align: top;\n",
              "    }\n",
              "\n",
              "    .dataframe thead th {\n",
              "        text-align: right;\n",
              "    }\n",
              "</style>\n",
              "<table border=\"1\" class=\"dataframe\">\n",
              "  <thead>\n",
              "    <tr style=\"text-align: right;\">\n",
              "      <th></th>\n",
              "      <th>PassengerId</th>\n",
              "      <th>Survived</th>\n",
              "      <th>Pclass</th>\n",
              "      <th>Name</th>\n",
              "      <th>Sex</th>\n",
              "      <th>Age</th>\n",
              "      <th>SibSp</th>\n",
              "      <th>Parch</th>\n",
              "      <th>Ticket</th>\n",
              "      <th>Fare</th>\n",
              "      <th>Cabin</th>\n",
              "      <th>Embarked</th>\n",
              "    </tr>\n",
              "  </thead>\n",
              "  <tbody>\n",
              "    <tr>\n",
              "      <th>0</th>\n",
              "      <td>False</td>\n",
              "      <td>False</td>\n",
              "      <td>False</td>\n",
              "      <td>False</td>\n",
              "      <td>False</td>\n",
              "      <td>False</td>\n",
              "      <td>False</td>\n",
              "      <td>False</td>\n",
              "      <td>False</td>\n",
              "      <td>False</td>\n",
              "      <td>True</td>\n",
              "      <td>False</td>\n",
              "    </tr>\n",
              "    <tr>\n",
              "      <th>1</th>\n",
              "      <td>False</td>\n",
              "      <td>False</td>\n",
              "      <td>False</td>\n",
              "      <td>False</td>\n",
              "      <td>False</td>\n",
              "      <td>False</td>\n",
              "      <td>False</td>\n",
              "      <td>False</td>\n",
              "      <td>False</td>\n",
              "      <td>False</td>\n",
              "      <td>False</td>\n",
              "      <td>False</td>\n",
              "    </tr>\n",
              "    <tr>\n",
              "      <th>2</th>\n",
              "      <td>False</td>\n",
              "      <td>False</td>\n",
              "      <td>False</td>\n",
              "      <td>False</td>\n",
              "      <td>False</td>\n",
              "      <td>False</td>\n",
              "      <td>False</td>\n",
              "      <td>False</td>\n",
              "      <td>False</td>\n",
              "      <td>False</td>\n",
              "      <td>True</td>\n",
              "      <td>False</td>\n",
              "    </tr>\n",
              "    <tr>\n",
              "      <th>3</th>\n",
              "      <td>False</td>\n",
              "      <td>False</td>\n",
              "      <td>False</td>\n",
              "      <td>False</td>\n",
              "      <td>False</td>\n",
              "      <td>False</td>\n",
              "      <td>False</td>\n",
              "      <td>False</td>\n",
              "      <td>False</td>\n",
              "      <td>False</td>\n",
              "      <td>False</td>\n",
              "      <td>False</td>\n",
              "    </tr>\n",
              "    <tr>\n",
              "      <th>4</th>\n",
              "      <td>False</td>\n",
              "      <td>False</td>\n",
              "      <td>False</td>\n",
              "      <td>False</td>\n",
              "      <td>False</td>\n",
              "      <td>False</td>\n",
              "      <td>False</td>\n",
              "      <td>False</td>\n",
              "      <td>False</td>\n",
              "      <td>False</td>\n",
              "      <td>True</td>\n",
              "      <td>False</td>\n",
              "    </tr>\n",
              "    <tr>\n",
              "      <th>...</th>\n",
              "      <td>...</td>\n",
              "      <td>...</td>\n",
              "      <td>...</td>\n",
              "      <td>...</td>\n",
              "      <td>...</td>\n",
              "      <td>...</td>\n",
              "      <td>...</td>\n",
              "      <td>...</td>\n",
              "      <td>...</td>\n",
              "      <td>...</td>\n",
              "      <td>...</td>\n",
              "      <td>...</td>\n",
              "    </tr>\n",
              "    <tr>\n",
              "      <th>886</th>\n",
              "      <td>False</td>\n",
              "      <td>False</td>\n",
              "      <td>False</td>\n",
              "      <td>False</td>\n",
              "      <td>False</td>\n",
              "      <td>False</td>\n",
              "      <td>False</td>\n",
              "      <td>False</td>\n",
              "      <td>False</td>\n",
              "      <td>False</td>\n",
              "      <td>True</td>\n",
              "      <td>False</td>\n",
              "    </tr>\n",
              "    <tr>\n",
              "      <th>887</th>\n",
              "      <td>False</td>\n",
              "      <td>False</td>\n",
              "      <td>False</td>\n",
              "      <td>False</td>\n",
              "      <td>False</td>\n",
              "      <td>False</td>\n",
              "      <td>False</td>\n",
              "      <td>False</td>\n",
              "      <td>False</td>\n",
              "      <td>False</td>\n",
              "      <td>False</td>\n",
              "      <td>False</td>\n",
              "    </tr>\n",
              "    <tr>\n",
              "      <th>888</th>\n",
              "      <td>False</td>\n",
              "      <td>False</td>\n",
              "      <td>False</td>\n",
              "      <td>False</td>\n",
              "      <td>False</td>\n",
              "      <td>True</td>\n",
              "      <td>False</td>\n",
              "      <td>False</td>\n",
              "      <td>False</td>\n",
              "      <td>False</td>\n",
              "      <td>True</td>\n",
              "      <td>False</td>\n",
              "    </tr>\n",
              "    <tr>\n",
              "      <th>889</th>\n",
              "      <td>False</td>\n",
              "      <td>False</td>\n",
              "      <td>False</td>\n",
              "      <td>False</td>\n",
              "      <td>False</td>\n",
              "      <td>False</td>\n",
              "      <td>False</td>\n",
              "      <td>False</td>\n",
              "      <td>False</td>\n",
              "      <td>False</td>\n",
              "      <td>False</td>\n",
              "      <td>False</td>\n",
              "    </tr>\n",
              "    <tr>\n",
              "      <th>890</th>\n",
              "      <td>False</td>\n",
              "      <td>False</td>\n",
              "      <td>False</td>\n",
              "      <td>False</td>\n",
              "      <td>False</td>\n",
              "      <td>False</td>\n",
              "      <td>False</td>\n",
              "      <td>False</td>\n",
              "      <td>False</td>\n",
              "      <td>False</td>\n",
              "      <td>True</td>\n",
              "      <td>False</td>\n",
              "    </tr>\n",
              "  </tbody>\n",
              "</table>\n",
              "<p>891 rows × 12 columns</p>\n",
              "</div>"
            ],
            "text/plain": [
              "     PassengerId  Survived  Pclass   Name  ...  Ticket   Fare  Cabin  Embarked\n",
              "0          False     False   False  False  ...   False  False   True     False\n",
              "1          False     False   False  False  ...   False  False  False     False\n",
              "2          False     False   False  False  ...   False  False   True     False\n",
              "3          False     False   False  False  ...   False  False  False     False\n",
              "4          False     False   False  False  ...   False  False   True     False\n",
              "..           ...       ...     ...    ...  ...     ...    ...    ...       ...\n",
              "886        False     False   False  False  ...   False  False   True     False\n",
              "887        False     False   False  False  ...   False  False  False     False\n",
              "888        False     False   False  False  ...   False  False   True     False\n",
              "889        False     False   False  False  ...   False  False  False     False\n",
              "890        False     False   False  False  ...   False  False   True     False\n",
              "\n",
              "[891 rows x 12 columns]"
            ]
          },
          "metadata": {},
          "execution_count": 22
        }
      ]
    },
    {
      "cell_type": "code",
      "metadata": {
        "colab": {
          "base_uri": "https://localhost:8080/"
        },
        "id": "fvpUjQAhSn5b",
        "outputId": "4f055d0d-eec7-40f3-88fc-ca418452cef2"
      },
      "source": [
        "## Somatórios dos valores nulos por atributo\n",
        "dados.isna().sum()"
      ],
      "execution_count": null,
      "outputs": [
        {
          "output_type": "execute_result",
          "data": {
            "text/plain": [
              "PassengerId      0\n",
              "Survived         0\n",
              "Pclass           0\n",
              "Name             0\n",
              "Sex              0\n",
              "Age            177\n",
              "SibSp            0\n",
              "Parch            0\n",
              "Ticket           0\n",
              "Fare             0\n",
              "Cabin          687\n",
              "Embarked         2\n",
              "dtype: int64"
            ]
          },
          "metadata": {},
          "execution_count": 23
        }
      ]
    },
    {
      "cell_type": "markdown",
      "metadata": {
        "id": "6aPgV9DRS7Za"
      },
      "source": [
        "### Visualização dos atributos do conjunto de dados"
      ]
    },
    {
      "cell_type": "code",
      "metadata": {
        "colab": {
          "base_uri": "https://localhost:8080/",
          "height": 296
        },
        "id": "OdkB4kybS1Hz",
        "outputId": "d32e289f-919c-451e-cc4b-f240fa279222"
      },
      "source": [
        "## Importando a biblioteca seaborn para visualização \n",
        "import seaborn as sns\n",
        "\n",
        "## Exemplo de gráfico para visualização da quantidade de sobreviventes do desastre do Titanic\n",
        "sns.countplot(x = 'Survived',data = dados)"
      ],
      "execution_count": null,
      "outputs": [
        {
          "output_type": "execute_result",
          "data": {
            "text/plain": [
              "<matplotlib.axes._subplots.AxesSubplot at 0x7f895f884550>"
            ]
          },
          "metadata": {},
          "execution_count": 24
        },
        {
          "output_type": "display_data",
          "data": {
            "image/png": "[encoded data removed]",
            "text/plain": [
              "<Figure size 432x288 with 1 Axes>"
            ]
          },
          "metadata": {
            "needs_background": "light"
          }
        }
      ]
    },
    {
      "cell_type": "code",
      "metadata": {
        "colab": {
          "base_uri": "https://localhost:8080/",
          "height": 296
        },
        "id": "v7Ys7BqtTTSI",
        "outputId": "c8529203-2f05-461f-b9c0-40dde7214050"
      },
      "source": [
        "## Exemplo de gráfico para visualização da quantidade de sobreviventes baseado no sexo\n",
        "sns.countplot(x = 'Survived', data = dados, hue = 'Sex')"
      ],
      "execution_count": null,
      "outputs": [
        {
          "output_type": "execute_result",
          "data": {
            "text/plain": [
              "<matplotlib.axes._subplots.AxesSubplot at 0x7f8950f92e10>"
            ]
          },
          "metadata": {},
          "execution_count": 25
        },
        {
          "output_type": "display_data",
          "data": {
            "image/png": "[encoded data removed]",
            "text/plain": [
              "<Figure size 432x288 with 1 Axes>"
            ]
          },
          "metadata": {
            "needs_background": "light"
          }
        }
      ]
    },
    {
      "cell_type": "markdown",
      "metadata": {
        "id": "paRzar2swK9-"
      },
      "source": [
        "# Definindo uma Arquitetura de RNA no PyTorch\n",
        "\n"
      ]
    },
    {
      "cell_type": "markdown",
      "metadata": {
        "id": "V11oB2vRpypW"
      },
      "source": [
        "**Carregando dados**\n",
        "\n",
        "Exemplo de dados não-linearmente separáveis (distribuição em lua): <br>\n",
        "https://scikit-learn.org/stable/modules/generated/sklearn.datasets.make_moons.html"
      ]
    },
    {
      "cell_type": "code",
      "metadata": {
        "id": "8phhNBvCpzUh",
        "colab": {
          "base_uri": "https://localhost:8080/",
          "height": 500
        },
        "outputId": "21afa083-d180-4345-b3c8-72bf240628d8"
      },
      "source": [
        "from sklearn.datasets import make_moons\n",
        "import matplotlib.pyplot as plt\n",
        "\n",
        "plt.figure(figsize=(10, 8))\n",
        "\n",
        "X1, Y1 = make_moons(n_samples=300, noise=0.2)\n",
        "plt.scatter(X1[:, 0], X1[:, 1], marker='o', \n",
        " c=Y1, s=25, edgecolor='k')"
      ],
      "execution_count": null,
      "outputs": [
        {
          "output_type": "execute_result",
          "data": {
            "text/plain": [
              "<matplotlib.collections.PathCollection at 0x7f894edec950>"
            ]
          },
          "metadata": {},
          "execution_count": 26
        },
        {
          "output_type": "display_data",
          "data": {
            "image/png": "[encoded data removed]",
            "text/plain": [
              "<Figure size 720x576 with 1 Axes>"
            ]
          },
          "metadata": {
            "needs_background": "light"
          }
        }
      ]
    },
    {
      "cell_type": "markdown",
      "metadata": {
        "id": "UAiQHJYEwSkc"
      },
      "source": [
        "## nn.Sequential\n",
        "\n",
        "O módulo ```nn.Sequential``` é um **container** onde se pode colocar **múltiplos módulos**. Ao realizar um ```forward``` em um objeto ```Sequential``` ele aplicará sequencialmente os módulos nele contidas para gerar uma saída.\n",
        "\n",
        "Segue abaixo um exemplo desse módulo contendo 2 camadas ```Linear``` intercaladas por uma função de ativação ```ReLU```.\n",
        "\n",
        "A **saída da camada escondida** depende da **capacidade** que se quer ter na rede => é um **hiperparâmetro** da rede.\n",
        "\n",
        "Por regra geral, o tamanho da saída da camada anterior é o mesmo tamanho na entrada da próxima camda."
      ]
    },
    {
      "cell_type": "code",
      "metadata": {
        "id": "Mag0izb6wUPp",
        "colab": {
          "base_uri": "https://localhost:8080/"
        },
        "outputId": "e81760e2-ca63-4e25-f678-44c61bdc2815"
      },
      "source": [
        "import torch\n",
        "from torch import nn # neural networks\n",
        "\n",
        "input_size = 2\n",
        "hidden_size = 8\n",
        "output_size = 1\n",
        "\n",
        "net = nn.Sequential(nn.Linear(in_features=input_size, out_features=hidden_size), # hidden (escondida)\n",
        "                    nn.ReLU(),   # ativação não linear\n",
        "                    nn.Linear(in_features=hidden_size, out_features=output_size)) # output (saída)\n",
        "print(net)"
      ],
      "execution_count": null,
      "outputs": [
        {
          "output_type": "stream",
          "name": "stdout",
          "text": [
            "Sequential(\n",
            "  (0): Linear(in_features=2, out_features=8, bias=True)\n",
            "  (1): ReLU()\n",
            "  (2): Linear(in_features=8, out_features=1, bias=True)\n",
            ")\n"
          ]
        }
      ]
    },
    {
      "cell_type": "markdown",
      "metadata": {
        "id": "NLjVRzhO0ca7"
      },
      "source": [
        "O módulo ```summary``` da biblioteca **```torchsummary```** nos permite visualizar mais informações sobre a nossa rede, como quantidade de parâmetros e o tamanho que cada elemento ocupa na memória.\n",
        "\n",
        "Para mais informações, acesse: https://github.com/sksq96/pytorch-summary"
      ]
    },
    {
      "cell_type": "code",
      "metadata": {
        "id": "B2zC8Aym0XlY"
      },
      "source": [
        "# from torchsummary import summary\n",
        "# summary(net, input_size=(1, input_size))"
      ],
      "execution_count": null,
      "outputs": []
    },
    {
      "cell_type": "markdown",
      "metadata": {
        "id": "zRkDskTRyXv-"
      },
      "source": [
        "### Forward"
      ]
    },
    {
      "cell_type": "code",
      "metadata": {
        "id": "pxDUnn9QyXYd",
        "colab": {
          "base_uri": "https://localhost:8080/"
        },
        "outputId": "6941872d-c886-4391-c07f-40ed9826a268"
      },
      "source": [
        "#print(X1.shape)\n",
        "tensor = torch.from_numpy(X1).float()\n",
        "pred   = net(tensor)\n",
        "\n",
        "print(X1[0])\n",
        "print(pred[0])\n",
        "\n",
        "#print(pred.size())"
      ],
      "execution_count": null,
      "outputs": [
        {
          "output_type": "stream",
          "name": "stdout",
          "text": [
            "[ 0.48958641 -0.48602764]\n",
            "tensor([-0.3517], grad_fn=<SelectBackward0>)\n"
          ]
        }
      ]
    },
    {
      "cell_type": "markdown",
      "metadata": {
        "id": "VCYX_4GGyPBE"
      },
      "source": [
        "## Classe nn.Module"
      ]
    },
    {
      "cell_type": "markdown",
      "metadata": {
        "id": "VI9SS3HX1Zgs"
      },
      "source": [
        "A forma mais organizada de definir modelos em PyTorch é implementando uma classe nos moldes da classe ```nn.Module```. Para redes pequenas, como as que estamos aprendendo até o momento, sua importância pode não se destacar, mas modelos maiores e com funcionalidades mais complexas, são mais fáceis de implementar e realizar manutenções dessa forma.\n",
        "\n",
        "Funções obrigatórias do ```nn.Module```.\n",
        "* ```__init()__```: definição de hiperparâmetros e instância do modelo \n",
        "* ```forward()```: Fluxo da entrada para produzir uma saída"
      ]
    },
    {
      "cell_type": "code",
      "metadata": {
        "id": "a2lfFAa01ZKu"
      },
      "source": [
        "class MinhaRede(nn.Module):\n",
        "  \n",
        "  def __init__(self, input_size, hidden_size, output_size):\n",
        "    super(MinhaRede, self).__init__()\n",
        "    \n",
        "    # Definir a arquitetura\n",
        "    self.hidden = nn.Linear(input_size, hidden_size)\n",
        "    self.relu   = nn.ReLU()\n",
        "    self.output = nn.Linear(hidden_size, output_size)\n",
        "    \n",
        "  def forward(self, X):\n",
        "    \n",
        "    # Gerar uma saída a partir do X\n",
        "    hidden = self.relu(self.hidden(X))\n",
        "    output = self.output(hidden)\n",
        "    \n",
        "    return output"
      ],
      "execution_count": null,
      "outputs": []
    },
    {
      "cell_type": "markdown",
      "metadata": {
        "id": "XlWpjx8Cp9yc"
      },
      "source": [
        "Instanciando a rede"
      ]
    },
    {
      "cell_type": "code",
      "metadata": {
        "id": "aB7J1h5u4Jj7",
        "colab": {
          "base_uri": "https://localhost:8080/"
        },
        "outputId": "ed8f1286-fe64-4861-b19f-3a424503ab11"
      },
      "source": [
        "input_size = 2\n",
        "hidden_size = 8\n",
        "output_size = 1\n",
        "\n",
        "net = MinhaRede(input_size,hidden_size, output_size)  ## O método __init__()\n",
        "print(net)"
      ],
      "execution_count": null,
      "outputs": [
        {
          "output_type": "stream",
          "name": "stdout",
          "text": [
            "MinhaRede(\n",
            "  (hidden): Linear(in_features=2, out_features=8, bias=True)\n",
            "  (relu): ReLU()\n",
            "  (output): Linear(in_features=8, out_features=1, bias=True)\n",
            ")\n"
          ]
        }
      ]
    },
    {
      "cell_type": "markdown",
      "metadata": {
        "id": "slveoFRP5AYy"
      },
      "source": [
        "### Forward"
      ]
    },
    {
      "cell_type": "code",
      "metadata": {
        "id": "Mrx09OpG45sk",
        "colab": {
          "base_uri": "https://localhost:8080/"
        },
        "outputId": "d32ad188-ab96-4dc4-f20d-883cb10c2229"
      },
      "source": [
        "# print(X1.shape)\n",
        "tensor = torch.from_numpy(X1).float()\n",
        "pred   = net(tensor)\n",
        "\n",
        "print(X1[0])\n",
        "print(pred[0])\n",
        "\n",
        "# print(pred.size())"
      ],
      "execution_count": null,
      "outputs": [
        {
          "output_type": "stream",
          "name": "stdout",
          "text": [
            "[ 0.48958641 -0.48602764]\n",
            "tensor([0.4898], grad_fn=<SelectBackward0>)\n"
          ]
        }
      ]
    },
    {
      "cell_type": "markdown",
      "metadata": {
        "id": "bgVmqvh565Xr"
      },
      "source": [
        "## Subindo informações na GPU\n",
        "\n",
        "Para conseguir executar modelos maiores em tempo hábil, é preciso carregar as informação na GPU para que o processamento seja realizado por ela. Dentre as informações que conhecemos até o momento, duas delas precisam ser carregadas ba GPU:\n",
        "* Entrada\n",
        "* Rede\n",
        "\n",
        "A célula a seguir contém a implementação sugerida para realizar esse processo. <br>\n",
        "Se certifique que o notebook está na configuração desejada (CPU/GPU). Para isso, basta acessar ```Edit -> Notebook Settings``` e definir o hardware desejado."
      ]
    },
    {
      "cell_type": "code",
      "metadata": {
        "id": "hR4b9wIROY75",
        "colab": {
          "base_uri": "https://localhost:8080/"
        },
        "outputId": "bce9e400-3408-4a06-f7c2-b32efdece799"
      },
      "source": [
        "if torch.cuda.is_available():\n",
        "  device = torch.device('cuda')\n",
        "else:\n",
        "  device = torch.device('cpu')\n",
        "  \n",
        "print(device)"
      ],
      "execution_count": null,
      "outputs": [
        {
          "output_type": "stream",
          "name": "stdout",
          "text": [
            "cuda\n"
          ]
        }
      ]
    },
    {
      "cell_type": "markdown",
      "metadata": {
        "id": "82HfG9B2UNWE"
      },
      "source": [
        "### Remover os comentários do código abaixo apenas quando o modo de execução na GPU estiver ativado."
      ]
    },
    {
      "cell_type": "code",
      "metadata": {
        "id": "xMpixk2a7Uy-"
      },
      "source": [
        "# input_size = 2\n",
        "# hidden_size = 8\n",
        "# output_size = 1\n",
        "\n",
        "# net = MinhaRede(input_size,hidden_size, output_size)  ## O método __init__()\n",
        "# # Inserir a rede na GPU\n",
        "# net = net.to(device)\n",
        "# print(net)"
      ],
      "execution_count": null,
      "outputs": []
    },
    {
      "cell_type": "code",
      "metadata": {
        "id": "NIA7SsuY8hMv"
      },
      "source": [
        "# print(X1.shape)\n",
        "# tensor = torch.from_numpy(X1).float()\n",
        "\n",
        "# # Transforma o tensor pra GPU\n",
        "# tensor = tensor.to(device)\n",
        "\n",
        "# pred   = net(tensor)\n",
        "# print(pred.size())"
      ],
      "execution_count": null,
      "outputs": []
    },
    {
      "cell_type": "markdown",
      "metadata": {
        "id": "lXYecTetBmsm"
      },
      "source": [
        "## Visualização da Fronteira de Decisão (Dataset de Vinhos)\n",
        "\n",
        "Dataset de classificação de vinhos. A classificação é feita com base em análises químicas realizadas em **três diferentes cultivos** na mesma região da Itália.\n",
        "\n",
        "O carregamento dos dados está descrito na documentação do Scikit-Learn:<br>\n",
        "https://scikit-learn.org/stable/modules/generated/sklearn.datasets.load_wine.html\n",
        "\n",
        "Dentre os 13 atributos do dataset, utilizaremos 2 para facilitar a visualização dos resultados:\n",
        "* Teor Alcoólico: índice 0 \n",
        "* Intensidade da cor: índice 9"
      ]
    },
    {
      "cell_type": "code",
      "metadata": {
        "colab": {
          "base_uri": "https://localhost:8080/",
          "height": 334
        },
        "id": "jEADcVfTFcT1",
        "outputId": "d8c5198c-52c6-49b6-bf83-4aa7d3b3b48a"
      },
      "source": [
        "from sklearn import datasets\n",
        "import matplotlib.pyplot as plt\n",
        "\n",
        "features = [0, 9]\n",
        "\n",
        "wine = datasets.load_wine()\n",
        "data = wine.data[:, features]\n",
        "targets = wine.target\n",
        "\n",
        "print(wine.feature_names)\n",
        "\n",
        "plt.scatter(data[:, 0], data[:,1], c=targets, s=15, cmap=plt.cm.brg)\n",
        "plt.xlabel(wine.feature_names[features[0]])\n",
        "plt.ylabel(wine.feature_names[features[1]])"
      ],
      "execution_count": null,
      "outputs": [
        {
          "output_type": "stream",
          "name": "stdout",
          "text": [
            "['alcohol', 'malic_acid', 'ash', 'alcalinity_of_ash', 'magnesium', 'total_phenols', 'flavanoids', 'nonflavanoid_phenols', 'proanthocyanins', 'color_intensity', 'hue', 'od280/od315_of_diluted_wines', 'proline']\n"
          ]
        },
        {
          "output_type": "execute_result",
          "data": {
            "text/plain": [
              "Text(0, 0.5, 'color_intensity')"
            ]
          },
          "metadata": {},
          "execution_count": 36
        },
        {
          "output_type": "display_data",
          "data": {
            "image/png": "[encoded data removed]",
            "text/plain": [
              "<Figure size 432x288 with 1 Axes>"
            ]
          },
          "metadata": {
            "needs_background": "light"
          }
        }
      ]
    },
    {
      "cell_type": "markdown",
      "metadata": {
        "id": "2CShMWbQFibe"
      },
      "source": [
        "### Padronização\n",
        "\n",
        "Um pré-processamento extremamente importante nesse caso é a padronização dos valores de entrada. Como as características variam em intervalos diferentes (cor: [1, 13], álcool: [11, 15]), elas vão exercer diferentes influências sobre o nosso modelo e prejudicar muito a sua convergência."
      ]
    },
    {
      "cell_type": "code",
      "metadata": {
        "colab": {
          "base_uri": "https://localhost:8080/",
          "height": 296
        },
        "id": "7hmazBJmFjVj",
        "outputId": "a3cfd6ac-d829-41ec-fedc-5a72f35ea18c"
      },
      "source": [
        "from sklearn.preprocessing import StandardScaler\n",
        "\n",
        "scaler = StandardScaler()\n",
        "data = scaler.fit_transform(data)\n",
        "\n",
        "plt.scatter(data[:, 0], data[:,1], c=targets, s=15, cmap=plt.cm.brg)\n",
        "plt.xlabel(wine.feature_names[features[0]])\n",
        "plt.ylabel(wine.feature_names[features[1]])"
      ],
      "execution_count": null,
      "outputs": [
        {
          "output_type": "execute_result",
          "data": {
            "text/plain": [
              "Text(0, 0.5, 'color_intensity')"
            ]
          },
          "metadata": {},
          "execution_count": 37
        },
        {
          "output_type": "display_data",
          "data": {
            "image/png": "[encoded data removed]",
            "text/plain": [
              "<Figure size 432x288 with 1 Axes>"
            ]
          },
          "metadata": {
            "needs_background": "light"
          }
        }
      ]
    },
    {
      "cell_type": "markdown",
      "metadata": {
        "id": "CeWdx2L2Fm2e"
      },
      "source": [
        "### Instanciando a rede\n",
        "\n",
        "Antes de entrar nas nuances da otimização, vamos fazer o que já sabemos: instanciar um MLP de duas camadas neurais, uma escondida e outra de saída.\n",
        "\n",
        "Lembre-se de definir o dispositivo de hardware (cuda ou cpu) antes de iniciar os trabalhos. \n"
      ]
    },
    {
      "cell_type": "code",
      "metadata": {
        "colab": {
          "base_uri": "https://localhost:8080/"
        },
        "id": "4u6E38DEFn4g",
        "outputId": "858addef-ac8e-4507-ad36-15f63a058707"
      },
      "source": [
        "import torch\n",
        "from torch import nn\n",
        "\n",
        "torch.manual_seed(42)\n",
        "\n",
        "if torch.cuda.is_available():\n",
        "  device = torch.device('cuda')\n",
        "else:\n",
        "  device = torch.device('cpu')\n",
        "\n",
        "print(device)\n",
        "\n",
        "input_size  = data.shape[1]\n",
        "hidden_size = 32\n",
        "out_size    = len(wine.target_names) # numero de classes \n",
        "\n",
        "net = nn.Sequential(\n",
        "    nn.Linear(input_size, hidden_size),\n",
        "    nn.ReLU(),\n",
        "    nn.Linear(hidden_size, out_size),\n",
        "    nn.Softmax()\n",
        ")\n",
        "\n",
        "net = net.to(device)"
      ],
      "execution_count": null,
      "outputs": [
        {
          "output_type": "stream",
          "name": "stdout",
          "text": [
            "cuda\n"
          ]
        }
      ]
    },
    {
      "cell_type": "markdown",
      "metadata": {
        "id": "whYJRVFSFvR1"
      },
      "source": [
        "### Plot de fronteira de decisão"
      ]
    },
    {
      "cell_type": "code",
      "metadata": {
        "colab": {
          "base_uri": "https://localhost:8080/",
          "height": 34
        },
        "id": "ow0JKq3lFuF3",
        "outputId": "af1c2cd2-faec-4a78-d9b4-b07eedca223a"
      },
      "source": [
        "import numpy as np \n",
        "\n",
        "plt.figure(figsize=(10, 8))\n",
        "\n",
        "def plot_boundary(X, y, model):\n",
        "  x_min, x_max = X[:, 0].min()-0.1, X[:, 0].max()+0.1\n",
        "  y_min, y_max = X[:, 1].min()-0.1, X[:, 1].max()+0.1\n",
        "  \n",
        "  spacing = min(x_max - x_min, y_max - y_min) / 100\n",
        "  \n",
        "  XX, YY = np.meshgrid(np.arange(x_min, x_max, spacing),\n",
        "                       np.arange(y_min, y_max, spacing))\n",
        "  \n",
        "  data = np.hstack((XX.ravel().reshape(-1,1), \n",
        "                    YY.ravel().reshape(-1,1)))\n",
        "  \n",
        "  # For binary problems\n",
        "  # db_prob = model(Variable(torch.Tensor(data)).cuda() )\n",
        "  # clf = np.where(db_prob.cpu().data < 0.5,0,1)\n",
        "  \n",
        "  # For multi-class problems\n",
        "  db_prob = model(torch.Tensor(data).to(device) )\n",
        "  clf = np.argmax(db_prob.cpu().data.numpy(), axis=-1)\n",
        "  \n",
        "  Z = clf.reshape(XX.shape)\n",
        "  \n",
        "  plt.contourf(XX, YY, Z, cmap=plt.cm.brg, alpha=0.5)\n",
        "  plt.scatter(X[:,0], X[:,1], c=y, edgecolors='k', s=25, cmap=plt.cm.brg)"
      ],
      "execution_count": null,
      "outputs": [
        {
          "output_type": "display_data",
          "data": {
            "text/plain": [
              "<Figure size 720x576 with 0 Axes>"
            ]
          },
          "metadata": {}
        }
      ]
    },
    {
      "cell_type": "code",
      "metadata": {
        "colab": {
          "base_uri": "https://localhost:8080/",
          "height": 518
        },
        "id": "gxzYMl9YF3JA",
        "outputId": "e91b731b-7787-4f65-86f4-f5a3c953b6ae"
      },
      "source": [
        "plt.figure(figsize=(10, 8))\n",
        "plot_boundary(data, targets, net)"
      ],
      "execution_count": null,
      "outputs": [
        {
          "output_type": "stream",
          "name": "stderr",
          "text": [
            "/usr/local/lib/python3.7/dist-packages/torch/nn/modules/container.py:141: UserWarning: Implicit dimension choice for softmax has been deprecated. Change the call to include dim=X as an argument.\n",
            "  input = module(input)\n"
          ]
        },
        {
          "output_type": "display_data",
          "data": {
            "image/png": "[encoded data removed]",
            "text/plain": [
              "<Figure size 720x576 with 1 Axes>"
            ]
          },
          "metadata": {
            "needs_background": "light"
          }
        }
      ]
    }
  ]
}
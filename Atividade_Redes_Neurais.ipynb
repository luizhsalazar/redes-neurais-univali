{
  "nbformat": 4,
  "nbformat_minor": 0,
  "metadata": {
    "colab": {
      "name": "Atividade - Redes Neurais.ipynb",
      "provenance": [],
      "collapsed_sections": [],
      "toc_visible": true
    },
    "kernelspec": {
      "name": "python3",
      "display_name": "Python 3"
    },
    "accelerator": "GPU"
  },
  "cells": [
    {
      "cell_type": "markdown",
      "metadata": {
        "id": "-j7fw0ogmNb7"
      },
      "source": [
        "## Atividade Proposta - Redes Neurais\n",
        "\n",
        "---\n",
        "\n",
        "**Data de Entrega:** 12/12/2021 (ou no máximo até segunda-feira, dia 13/12, de manhã)\n",
        "\n",
        "**Forma de envio:** Enviar o notebook (.ipynb) ou compartilhar o colab com o e-mail: luizhsalazar@gmail.com.\n",
        "\n",
        "---\n",
        "\n",
        "Seguir as etapas descritas neste notebook com o objetivo de aplicar os conceitos de redes neurais.\n",
        "\n",
        "As etapas são as seguites:\n",
        "\n",
        "1.   **Carregamento dos dados**\n",
        "  \n",
        "  **1.1**   Descrever brevemente o dataset escolhido\n",
        "  * Qual problema o dataset escolhido irá resolver: problema de classificação ou regressão?\n",
        "  * Se for um problema de classificação, será utilizado classificação binária (apenas duas classes) ou multi-classe (mais de duas classes)?\n",
        "  * Quantos registros o dataset possui?\n",
        "  * Quantas features (atributos) estão presentes nos dados?\n",
        "  * Quais features mais se relacionam com o problema em questão? \n",
        "\n",
        "  **1.2** Caso necessário, aplicar as transformações pertinentes aos dados\n",
        "  * Cast de tipos\n",
        "  * Conversão de dados categóricos para numéricos\n",
        "  * Entre outros.\n",
        "\n",
        "2.   **Construção da rede neural MLP**\n",
        "\n",
        "  **2.1** **Definição e justificativa** do tamanho das camadas de entrada, intermediárias e de saída da rede\n",
        "\n",
        "  **2.2** **Justificar** qual função de ativação será utilizada\n",
        "\n",
        "  **2.3** Utilização do módulo `nn.Module` para a construção da rede\n",
        "\n",
        "  **2.4** Instanciação da rede construída\n",
        "\n",
        "3.   **Forward** na rede construída\n",
        "\n",
        "  **3.1** Transformação dos dados em `tensores` para serem inseridos na rede\n",
        "\n",
        "  **3.2** Realização de `forward` dos tensores na rede\n",
        "\n",
        "4.  **Backpropagation**\n",
        "  \n",
        "  **4.1**  Descrever qual o papel da função de perda (loss) nas redes neurais.\n",
        "\n",
        "  **4.2**  Inclusão da função de perda (loss)\n",
        "\n",
        "  **4.3**  Descrever qual o papel do algoritmo de otimização nas redes neurais.\n",
        "\n",
        "  **4.4**  Inclusão do algoritmo de otimização \n",
        "\n",
        "  **4.5**. Realização do treinamento do modelo\n",
        "\n",
        "5.  **Interpretando a qualidade do modelo**\n",
        "    \n",
        "  **5.1**. Cálculo da acurácia do modelo utilizando as métricas do SKLearn\n",
        "\n",
        "---\n",
        "\n",
        "Etapas opcionais (conforme exemplos passados em aula):\n",
        "\n",
        "*   Utilização de **GPU**\n",
        "*   Plot do **gráfico** com as classes (visualização das classes do problema)\n",
        "*   Plot da **fronteira de decisão** inicial (visualização da fronteira definida pelo modelo inicial)\n",
        "\n",
        "---\n"
      ]
    },
    {
      "cell_type": "markdown",
      "metadata": {
        "id": "QsrfVYnEOfjK"
      },
      "source": [
        "## 1. Carregamento de dados\n",
        "\n",
        "Documentação sobre o comando de importação dos arquivos CSV (https://pandas.pydata.org/docs/reference/api/pandas.read_csv.html)"
      ]
    },
    {
      "cell_type": "code",
      "metadata": {
        "id": "gHKMLTpvOmXM"
      },
      "source": [
        "## Importando a biblioteca do pandas\n",
        "import pandas as pd"
      ],
      "execution_count": null,
      "outputs": []
    },
    {
      "cell_type": "markdown",
      "metadata": {
        "id": "a-4QW46P9ZCZ"
      },
      "source": [
        "### 1.1 Descrever brevemente o dataset escolhido\n",
        "\n",
        "---\n",
        "\n",
        "Incluir nesta seção.\n",
        "\n",
        "---"
      ]
    },
    {
      "cell_type": "markdown",
      "metadata": {
        "id": "R9-4M3qV9uvk"
      },
      "source": [
        "### 1.2 Caso necessário, aplicar as transformações pertinentes aos dados"
      ]
    },
    {
      "cell_type": "code",
      "metadata": {
        "id": "nldp1DWB9wae"
      },
      "source": [
        ""
      ],
      "execution_count": null,
      "outputs": []
    },
    {
      "cell_type": "markdown",
      "metadata": {
        "id": "SVNRXXMF6TOg"
      },
      "source": [
        "## 2. Construção da rede neural"
      ]
    },
    {
      "cell_type": "markdown",
      "metadata": {
        "id": "C1CvlrCN92qa"
      },
      "source": [
        "### 2.1 Definição e justificativa do tamanho das camadas de entrada, intermediárias e de saída da rede\n",
        "\n",
        "---\n",
        "\n",
        "Incluir a justificativa nesta seção.\n",
        "\n",
        "---\n",
        "\n",
        "Estrutura exemplo de código:\n",
        "\n",
        "```\n",
        "input_size = 2\n",
        "hidden_size = 8\n",
        "output_size = 1\n",
        "\n",
        "nn.Linear(in_features=input_size, out_features=hidden_size),  # hidden (camada escondida)\n",
        "nn.Linear(in_features=hidden_size, out_features=output_size)) # output (camada de saída)\n",
        "```\n",
        "\n"
      ]
    },
    {
      "cell_type": "code",
      "metadata": {
        "id": "VM4sp_ra8irT"
      },
      "source": [
        ""
      ],
      "execution_count": null,
      "outputs": []
    },
    {
      "cell_type": "markdown",
      "metadata": {
        "id": "cfjNYIKDAow0"
      },
      "source": [
        "### 2.2 Justificar qual função de ativação será utilizada\n",
        "\n",
        "---\n",
        "\n",
        "Incluir a justificativa nesta seção.\n",
        "\n",
        "---\n",
        "\n",
        "Estrutura exemplo de código\n",
        "\n",
        "```\n",
        "rede = nn.Sequential(\n",
        "    nn.Linear(input_size, hidden_size),\n",
        "    nn.Sigmoid(), # função de ativação\n",
        "    nn.Linear(hidden_size, out_size)\n",
        ")\n",
        "```"
      ]
    },
    {
      "cell_type": "code",
      "metadata": {
        "id": "fSHQo8D1BzZ3"
      },
      "source": [
        ""
      ],
      "execution_count": null,
      "outputs": []
    },
    {
      "cell_type": "markdown",
      "metadata": {
        "id": "vMAR9Q68BbDQ"
      },
      "source": [
        "### 2.3 Utilização do módulo `nn.Module` para a construção da rede\n",
        "\n",
        "Estrutura exemplo de código\n",
        "\n",
        "```\n",
        "class MinhaRede(nn.Module):\n",
        "  \n",
        "  def __init__(self, input_size, hidden_size, output_size):\n",
        "    super(MinhaRede, self).__init__()\n",
        "    \n",
        "    # Definir a arquitetura\n",
        "    self.hidden = nn.Linear(input_size, hidden_size)\n",
        "    self.relu   = nn.ReLU()\n",
        "    self.output = nn.Linear(hidden_size, output_size)\n",
        "    \n",
        "  def forward(self, X):\n",
        "    \n",
        "    # Gerar uma saída a partir do X\n",
        "    hidden = self.relu(self.hidden(X))\n",
        "    output = self.output(hidden)\n",
        "    \n",
        "    return output\n",
        "```\n",
        "\n"
      ]
    },
    {
      "cell_type": "markdown",
      "metadata": {
        "id": "GOT48GPmCxRh"
      },
      "source": [
        "### 2.4 Instanciação da rede construída\n",
        "\n",
        "Estrutura exemplo de código:\n",
        "\n",
        "```\n",
        "net = MinhaRede(input_size,hidden_size, output_size)  ## O método __init__()\n",
        "print(net)\n",
        "\n"
      ]
    },
    {
      "cell_type": "code",
      "metadata": {
        "id": "TRqWGqr7ByZp"
      },
      "source": [
        ""
      ],
      "execution_count": null,
      "outputs": []
    },
    {
      "cell_type": "markdown",
      "metadata": {
        "id": "KHhzfcwt8jE0"
      },
      "source": [
        "## 3. Forward na rede construída\n"
      ]
    },
    {
      "cell_type": "markdown",
      "metadata": {
        "id": "cX9GSaOuB3vz"
      },
      "source": [
        "### 3.1 Transformação dos dados em **tensores** para serem inseridos na rede\n",
        "\n",
        "Estrutura exemplo de código:\n",
        "\n",
        "```\n",
        "tensor = torch.from_numpy(X1).float()\n",
        "```\n",
        "\n",
        "\n"
      ]
    },
    {
      "cell_type": "code",
      "metadata": {
        "id": "cvUnvFop8uI_"
      },
      "source": [
        ""
      ],
      "execution_count": null,
      "outputs": []
    },
    {
      "cell_type": "markdown",
      "metadata": {
        "id": "8W_UZ8QGCDqA"
      },
      "source": [
        "### 3.2 Realização de **forward** dos tensores na rede\n",
        "\n",
        "Estrutura exemplo de código:\n",
        "\n",
        "```\n",
        "pred   = net(tensor)\n",
        "```\n",
        "\n",
        "\n",
        "\n"
      ]
    },
    {
      "cell_type": "code",
      "metadata": {
        "id": "Sf8SWIZ3CSEG"
      },
      "source": [
        ""
      ],
      "execution_count": null,
      "outputs": []
    },
    {
      "cell_type": "markdown",
      "metadata": {
        "id": "BQ38JEWj8w6J"
      },
      "source": [
        "## 4. Backpropagation"
      ]
    },
    {
      "cell_type": "markdown",
      "metadata": {
        "id": "5XHv5qSwJBZG"
      },
      "source": [
        "### 4.1 Descrever qual o papel da função de perda (loss) nas redes neurais.\n",
        "\n",
        "---\n",
        "\n",
        "Incluir nesta seção.\n",
        "\n",
        "---\n"
      ]
    },
    {
      "cell_type": "markdown",
      "metadata": {
        "id": "gcyZDQ-PCa9P"
      },
      "source": [
        "### 4.2 Inclusão da função de perda (loss)\n",
        "\n",
        "Estrutura exemplo de código:\n",
        "\n",
        "```\n",
        "criterion = nn.CrossEntropyLoss()\n",
        "```\n",
        "\n"
      ]
    },
    {
      "cell_type": "code",
      "metadata": {
        "id": "OY_y6UYz8ypP"
      },
      "source": [
        ""
      ],
      "execution_count": null,
      "outputs": []
    },
    {
      "cell_type": "markdown",
      "metadata": {
        "id": "K5FV0IvOJI7S"
      },
      "source": [
        "### 4.3 Descrever qual o papel do algoritmo de otimização nas redes neurais.\n",
        "\n",
        "---\n",
        "\n",
        "Incluir nesta seção.\n",
        "\n",
        "---"
      ]
    },
    {
      "cell_type": "markdown",
      "metadata": {
        "id": "ucwpKZPOCfAj"
      },
      "source": [
        "### 4.4 Inclusão do algoritmo de otimização\n",
        "\n",
        "Estrutura exemplo de código:\n",
        "\n",
        "```\n",
        "from torch import optim\n",
        "\n",
        "# Otimizador: Descida do Gradiente\n",
        "optimizer = optim.SGD(net.parameters(), lr=0.0001)\n",
        "```\n",
        "\n"
      ]
    },
    {
      "cell_type": "code",
      "metadata": {
        "id": "tMPzauaSCl_B"
      },
      "source": [
        ""
      ],
      "execution_count": null,
      "outputs": []
    },
    {
      "cell_type": "markdown",
      "metadata": {
        "id": "3Depy_8DCmT1"
      },
      "source": [
        "### 4.5 Realização do treinamento do modelo\n",
        "\n",
        "Estrutura exemplo de código:\n",
        "\n",
        "```\n",
        "# Forward \n",
        "pred = net(X)\n",
        "loss = criterion(pred, Y)\n",
        "\n",
        "# Backward\n",
        "loss.backward()\n",
        "optimizer.step()\n",
        "```\n",
        "\n",
        "\n",
        "\n"
      ]
    },
    {
      "cell_type": "code",
      "metadata": {
        "id": "nsoBh2pbqZC8"
      },
      "source": [
        ""
      ],
      "execution_count": null,
      "outputs": []
    },
    {
      "cell_type": "markdown",
      "metadata": {
        "id": "pIMsaMZQqZVW"
      },
      "source": [
        "## 5. Interpretando a qualidade do modelo\n",
        "\n",
        "### 5.1. Cálculo da acurácia do modelo utilizando as métricas do SKLearn\n",
        "\n",
        "Estrutura exemplo de código:\n",
        "\n",
        "```\n",
        "from sklearn.metrics import accuracy_score\n",
        "\n",
        "accuracy_score(y_numpy, y_pred_test)\n",
        "```\n",
        "\n"
      ]
    },
    {
      "cell_type": "code",
      "metadata": {
        "id": "EtVqVmsiqtEJ"
      },
      "source": [
        ""
      ],
      "execution_count": null,
      "outputs": []
    },
    {
      "cell_type": "markdown",
      "metadata": {
        "id": "6BkGaia8Do0A"
      },
      "source": [
        "## Etapas Opcionais"
      ]
    },
    {
      "cell_type": "markdown",
      "metadata": {
        "id": "whYJRVFSFvR1"
      },
      "source": [
        "### Função de apoio para plotar a fronteira de decisão do modelo"
      ]
    },
    {
      "cell_type": "code",
      "metadata": {
        "colab": {
          "base_uri": "https://localhost:8080/",
          "height": 34
        },
        "id": "ow0JKq3lFuF3",
        "outputId": "af1c2cd2-faec-4a78-d9b4-b07eedca223a"
      },
      "source": [
        "import numpy as np \n",
        "\n",
        "plt.figure(figsize=(10, 8))\n",
        "\n",
        "def plot_boundary(X, y, model):\n",
        "  x_min, x_max = X[:, 0].min()-0.1, X[:, 0].max()+0.1\n",
        "  y_min, y_max = X[:, 1].min()-0.1, X[:, 1].max()+0.1\n",
        "  \n",
        "  spacing = min(x_max - x_min, y_max - y_min) / 100\n",
        "  \n",
        "  XX, YY = np.meshgrid(np.arange(x_min, x_max, spacing),\n",
        "                       np.arange(y_min, y_max, spacing))\n",
        "  \n",
        "  data = np.hstack((XX.ravel().reshape(-1,1), \n",
        "                    YY.ravel().reshape(-1,1)))\n",
        "  \n",
        "  # Descomentar para problemas de classificação binária\n",
        "  # db_prob = model(Variable(torch.Tensor(data)).cuda() )\n",
        "  # clf = np.where(db_prob.cpu().data < 0.5,0,1)\n",
        "  \n",
        "  # Descomentar para problemas de classificação multi-classe\n",
        "  db_prob = model(torch.Tensor(data).to(device) )\n",
        "  clf = np.argmax(db_prob.cpu().data.numpy(), axis=-1)\n",
        "  \n",
        "  Z = clf.reshape(XX.shape)\n",
        "  \n",
        "  plt.contourf(XX, YY, Z, cmap=plt.cm.brg, alpha=0.5)\n",
        "  plt.scatter(X[:,0], X[:,1], c=y, edgecolors='k', s=25, cmap=plt.cm.brg)"
      ],
      "execution_count": null,
      "outputs": [
        {
          "output_type": "display_data",
          "data": {
            "text/plain": [
              "<Figure size 720x576 with 0 Axes>"
            ]
          },
          "metadata": {}
        }
      ]
    }
  ]
}